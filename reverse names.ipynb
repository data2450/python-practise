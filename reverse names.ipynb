{
  "nbformat": 4,
  "nbformat_minor": 0,
  "metadata": {
    "colab": {
      "name": "practise python.ipynb",
      "provenance": [],
      "authorship_tag": "ABX9TyOJmkyuIN9cxcLKED8/EX+B",
      "include_colab_link": true
    },
    "kernelspec": {
      "name": "python3",
      "display_name": "Python 3"
    }
  },
  "cells": [
    {
      "cell_type": "markdown",
      "metadata": {
        "id": "view-in-github",
        "colab_type": "text"
      },
      "source": [
        "<a href=\"https://colab.research.google.com/github/data2450/python-practise/blob/main/reverse%20names.ipynb\" target=\"_parent\"><img src=\"https://colab.research.google.com/assets/colab-badge.svg\" alt=\"Open In Colab\"/></a>"
      ]
    },
    {
      "cell_type": "code",
      "metadata": {
        "id": "xVuOt1JpSiZ_"
      },
      "source": [
        "def reverse(name):\n",
        "  str=\"\"\n",
        "  for i in name:\n",
        "    str=i + str\n",
        "  return str"
      ],
      "execution_count": 70,
      "outputs": []
    },
    {
      "cell_type": "code",
      "metadata": {
        "id": "-NmrITuQSpIp",
        "outputId": "c324e6e2-2b31-4f02-ed00-ded87aa6f160",
        "colab": {
          "base_uri": "https://localhost:8080/",
          "height": 35
        }
      },
      "source": [
        "reverse(\"joju\")"
      ],
      "execution_count": 69,
      "outputs": [
        {
          "output_type": "execute_result",
          "data": {
            "application/vnd.google.colaboratory.intrinsic+json": {
              "type": "string"
            },
            "text/plain": [
              "'ujoj'"
            ]
          },
          "metadata": {
            "tags": []
          },
          "execution_count": 69
        }
      ]
    },
    {
      "cell_type": "code",
      "metadata": {
        "id": "YIlgOwJuWI80"
      },
      "source": [
        "def reverse_f_name(first_n,last_n):\n",
        " full_r_n= reverse(first_n)+(\" \")+reverse(last_n)\n",
        " return full_r_n"
      ],
      "execution_count": 71,
      "outputs": []
    },
    {
      "cell_type": "code",
      "metadata": {
        "id": "ZkFXHk5qW4C-",
        "outputId": "0e744ae6-eb9b-4282-e130-7ccadc5c3599",
        "colab": {
          "base_uri": "https://localhost:8080/",
          "height": 35
        }
      },
      "source": [
        "reverse_f_name(\"joju\",\"shaji\")"
      ],
      "execution_count": 72,
      "outputs": [
        {
          "output_type": "execute_result",
          "data": {
            "application/vnd.google.colaboratory.intrinsic+json": {
              "type": "string"
            },
            "text/plain": [
              "'ujoj ijahs'"
            ]
          },
          "metadata": {
            "tags": []
          },
          "execution_count": 72
        }
      ]
    },
    {
      "cell_type": "code",
      "metadata": {
        "id": "0TJqQNZ-ctSg"
      },
      "source": [
        "def re_name(name1,name2):\n",
        "\n",
        "  rev_n=name2 + (\" \")+ name1\n",
        "  return (rev_n)"
      ],
      "execution_count": 82,
      "outputs": []
    },
    {
      "cell_type": "code",
      "metadata": {
        "id": "mTYM4qyNdGXB",
        "outputId": "3313792c-97f8-4cc9-b66a-28559afbc097",
        "colab": {
          "base_uri": "https://localhost:8080/",
          "height": 35
        }
      },
      "source": [
        "re_name(\"don\",\"jack\")"
      ],
      "execution_count": 83,
      "outputs": [
        {
          "output_type": "execute_result",
          "data": {
            "application/vnd.google.colaboratory.intrinsic+json": {
              "type": "string"
            },
            "text/plain": [
              "'jack don'"
            ]
          },
          "metadata": {
            "tags": []
          },
          "execution_count": 83
        }
      ]
    }
  ]
}